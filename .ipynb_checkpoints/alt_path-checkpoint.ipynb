{
 "cells": [
  {
   "cell_type": "code",
   "execution_count": 1,
   "metadata": {},
   "outputs": [],
   "source": [
    "import pandas as pd"
   ]
  },
  {
   "cell_type": "code",
   "execution_count": 2,
   "metadata": {},
   "outputs": [],
   "source": [
    "file_loc = LABEL_FILE_LOCATION = '/Users/johnmorin/Documents/GitHub/Obj-Det-Tutorial/TensorFlow-Object-Detection-API-Tutorial-Train-Multiple-Objects-Windows-10/images/train_labels.csv'"
   ]
  },
  {
   "cell_type": "code",
   "execution_count": 3,
   "metadata": {},
   "outputs": [],
   "source": [
    "df = pd.read_csv(file_loc)"
   ]
  },
  {
   "cell_type": "code",
   "execution_count": 4,
   "metadata": {},
   "outputs": [
    {
     "data": {
      "text/html": [
       "<div>\n",
       "<style>\n",
       "    .dataframe thead tr:only-child th {\n",
       "        text-align: right;\n",
       "    }\n",
       "\n",
       "    .dataframe thead th {\n",
       "        text-align: left;\n",
       "    }\n",
       "\n",
       "    .dataframe tbody tr th {\n",
       "        vertical-align: top;\n",
       "    }\n",
       "</style>\n",
       "<table border=\"1\" class=\"dataframe\">\n",
       "  <thead>\n",
       "    <tr style=\"text-align: right;\">\n",
       "      <th></th>\n",
       "      <th>filename</th>\n",
       "      <th>width</th>\n",
       "      <th>height</th>\n",
       "      <th>class</th>\n",
       "      <th>xmin</th>\n",
       "      <th>ymin</th>\n",
       "      <th>xmax</th>\n",
       "      <th>ymax</th>\n",
       "    </tr>\n",
       "  </thead>\n",
       "  <tbody>\n",
       "    <tr>\n",
       "      <th>0</th>\n",
       "      <td>cam_image1.jpg</td>\n",
       "      <td>480</td>\n",
       "      <td>270</td>\n",
       "      <td>queen</td>\n",
       "      <td>173</td>\n",
       "      <td>24</td>\n",
       "      <td>260</td>\n",
       "      <td>137</td>\n",
       "    </tr>\n",
       "    <tr>\n",
       "      <th>1</th>\n",
       "      <td>cam_image1.jpg</td>\n",
       "      <td>480</td>\n",
       "      <td>270</td>\n",
       "      <td>queen</td>\n",
       "      <td>165</td>\n",
       "      <td>135</td>\n",
       "      <td>253</td>\n",
       "      <td>251</td>\n",
       "    </tr>\n",
       "    <tr>\n",
       "      <th>2</th>\n",
       "      <td>cam_image1.jpg</td>\n",
       "      <td>480</td>\n",
       "      <td>270</td>\n",
       "      <td>ten</td>\n",
       "      <td>255</td>\n",
       "      <td>96</td>\n",
       "      <td>337</td>\n",
       "      <td>208</td>\n",
       "    </tr>\n",
       "    <tr>\n",
       "      <th>3</th>\n",
       "      <td>cam_image10.jpg</td>\n",
       "      <td>960</td>\n",
       "      <td>540</td>\n",
       "      <td>ten</td>\n",
       "      <td>501</td>\n",
       "      <td>116</td>\n",
       "      <td>700</td>\n",
       "      <td>353</td>\n",
       "    </tr>\n",
       "    <tr>\n",
       "      <th>4</th>\n",
       "      <td>cam_image10.jpg</td>\n",
       "      <td>960</td>\n",
       "      <td>540</td>\n",
       "      <td>queen</td>\n",
       "      <td>261</td>\n",
       "      <td>124</td>\n",
       "      <td>453</td>\n",
       "      <td>370</td>\n",
       "    </tr>\n",
       "  </tbody>\n",
       "</table>\n",
       "</div>"
      ],
      "text/plain": [
       "          filename  width  height  class  xmin  ymin  xmax  ymax\n",
       "0   cam_image1.jpg    480     270  queen   173    24   260   137\n",
       "1   cam_image1.jpg    480     270  queen   165   135   253   251\n",
       "2   cam_image1.jpg    480     270    ten   255    96   337   208\n",
       "3  cam_image10.jpg    960     540    ten   501   116   700   353\n",
       "4  cam_image10.jpg    960     540  queen   261   124   453   370"
      ]
     },
     "execution_count": 4,
     "metadata": {},
     "output_type": "execute_result"
    }
   ],
   "source": [
    "df.head()"
   ]
  },
  {
   "cell_type": "code",
   "execution_count": 5,
   "metadata": {},
   "outputs": [],
   "source": [
    "grouped = df['filename'].unique()\n",
    "#print(grouped)"
   ]
  },
  {
   "cell_type": "code",
   "execution_count": 6,
   "metadata": {},
   "outputs": [],
   "source": [
    "def class_text_to_int(row_label):\n",
    "    if row_label == 'nine':\n",
    "        return 1\n",
    "    elif row_label == 'ten':\n",
    "        return 2\n",
    "    elif row_label == 'jack':\n",
    "        return 3\n",
    "    elif row_label == 'queen':\n",
    "        return 4\n",
    "    elif row_label == 'king':\n",
    "        return 5\n",
    "    elif row_label == 'ace':\n",
    "        return 6\n",
    "    else:\n",
    "        return None"
   ]
  },
  {
   "cell_type": "code",
   "execution_count": 7,
   "metadata": {},
   "outputs": [],
   "source": [
    "col_names = ['filename', 'width', 'height', 'label', 'xmin', 'ymin', 'xmax', 'ymax']\n"
   ]
  },
  {
   "cell_type": "code",
   "execution_count": 8,
   "metadata": {},
   "outputs": [],
   "source": [
    "csv_df = pd.DataFrame()\n",
    "for files in grouped:\n",
    "    mydf = df[df['filename'] == files]\n",
    "    #print(mydf.head())\n",
    "    height = mydf['height'].unique()[0]\n",
    "    width = mydf['width'].unique()[0]\n",
    "    filename = mydf.filename.unique()[0]\n",
    "    label = mydf['class'].tolist()\n",
    "    #print(list(label))\n",
    "    num_label = mydf['class'].map(class_text_to_int).tolist()\n",
    "    xmin = mydf['xmin'].map(lambda x: x/width).tolist()\n",
    "    ymin = mydf['ymin'].map(lambda x: x/height).tolist()\n",
    "    xmax = mydf['xmax'].map(lambda x: x/width).tolist()\n",
    "    ymax = mydf['ymax'].map(lambda x: x/height).tolist()\n",
    "    temp = pd.DataFrame({'image/filename':filename, 'image/width':width, 'image/height':height, \n",
    "                         'image/object/class/label':[num_label], 'image/object/bbox/xmin':[xmin], 'image/object/bbox/ymin':[ymin], \n",
    "                        'image/object/bbox/xmax':[xmax], 'image/object/bbox/ymax':[ymax], 'image/object/class/text':[label]})\n",
    "    csv_df = pd.concat([csv_df, temp])"
   ]
  },
  {
   "cell_type": "code",
   "execution_count": 9,
   "metadata": {},
   "outputs": [],
   "source": [
    "csv_df.reset_index(inplace= True)\n",
    "csv_df.drop('index', axis=1, inplace = True)"
   ]
  },
  {
   "cell_type": "code",
   "execution_count": 10,
   "metadata": {},
   "outputs": [],
   "source": [
    "csv_df['image/format'] = 'jpg'"
   ]
  },
  {
   "cell_type": "code",
   "execution_count": 11,
   "metadata": {},
   "outputs": [],
   "source": [
    "#csv_df.drop('level_0', axis=1, inplace = True)"
   ]
  },
  {
   "cell_type": "code",
   "execution_count": 12,
   "metadata": {},
   "outputs": [
    {
     "data": {
      "text/html": [
       "<div>\n",
       "<style>\n",
       "    .dataframe thead tr:only-child th {\n",
       "        text-align: right;\n",
       "    }\n",
       "\n",
       "    .dataframe thead th {\n",
       "        text-align: left;\n",
       "    }\n",
       "\n",
       "    .dataframe tbody tr th {\n",
       "        vertical-align: top;\n",
       "    }\n",
       "</style>\n",
       "<table border=\"1\" class=\"dataframe\">\n",
       "  <thead>\n",
       "    <tr style=\"text-align: right;\">\n",
       "      <th></th>\n",
       "      <th>image/filename</th>\n",
       "      <th>image/height</th>\n",
       "      <th>image/object/bbox/xmax</th>\n",
       "      <th>image/object/bbox/xmin</th>\n",
       "      <th>image/object/bbox/ymax</th>\n",
       "      <th>image/object/bbox/ymin</th>\n",
       "      <th>image/object/class/label</th>\n",
       "      <th>image/object/class/text</th>\n",
       "      <th>image/width</th>\n",
       "      <th>image/format</th>\n",
       "    </tr>\n",
       "  </thead>\n",
       "  <tbody>\n",
       "    <tr>\n",
       "      <th>0</th>\n",
       "      <td>cam_image1.jpg</td>\n",
       "      <td>270</td>\n",
       "      <td>[0.5416666666666666, 0.5270833333333333, 0.702...</td>\n",
       "      <td>[0.36041666666666666, 0.34375, 0.53125]</td>\n",
       "      <td>[0.5074074074074074, 0.9296296296296296, 0.770...</td>\n",
       "      <td>[0.08888888888888889, 0.5, 0.35555555555555557]</td>\n",
       "      <td>[4, 4, 2]</td>\n",
       "      <td>[queen, queen, ten]</td>\n",
       "      <td>480</td>\n",
       "      <td>jpg</td>\n",
       "    </tr>\n",
       "    <tr>\n",
       "      <th>1</th>\n",
       "      <td>cam_image10.jpg</td>\n",
       "      <td>540</td>\n",
       "      <td>[0.7291666666666666, 0.471875]</td>\n",
       "      <td>[0.521875, 0.271875]</td>\n",
       "      <td>[0.6537037037037037, 0.6851851851851852]</td>\n",
       "      <td>[0.21481481481481482, 0.22962962962962963]</td>\n",
       "      <td>[2, 4]</td>\n",
       "      <td>[ten, queen]</td>\n",
       "      <td>960</td>\n",
       "      <td>jpg</td>\n",
       "    </tr>\n",
       "  </tbody>\n",
       "</table>\n",
       "</div>"
      ],
      "text/plain": [
       "    image/filename  image/height  \\\n",
       "0   cam_image1.jpg           270   \n",
       "1  cam_image10.jpg           540   \n",
       "\n",
       "                              image/object/bbox/xmax  \\\n",
       "0  [0.5416666666666666, 0.5270833333333333, 0.702...   \n",
       "1                     [0.7291666666666666, 0.471875]   \n",
       "\n",
       "                    image/object/bbox/xmin  \\\n",
       "0  [0.36041666666666666, 0.34375, 0.53125]   \n",
       "1                     [0.521875, 0.271875]   \n",
       "\n",
       "                              image/object/bbox/ymax  \\\n",
       "0  [0.5074074074074074, 0.9296296296296296, 0.770...   \n",
       "1           [0.6537037037037037, 0.6851851851851852]   \n",
       "\n",
       "                            image/object/bbox/ymin image/object/class/label  \\\n",
       "0  [0.08888888888888889, 0.5, 0.35555555555555557]                [4, 4, 2]   \n",
       "1       [0.21481481481481482, 0.22962962962962963]                   [2, 4]   \n",
       "\n",
       "  image/object/class/text  image/width image/format  \n",
       "0     [queen, queen, ten]          480          jpg  \n",
       "1            [ten, queen]          960          jpg  "
      ]
     },
     "execution_count": 12,
     "metadata": {},
     "output_type": "execute_result"
    }
   ],
   "source": [
    "csv_df.head(2)"
   ]
  },
  {
   "cell_type": "code",
   "execution_count": 13,
   "metadata": {},
   "outputs": [],
   "source": [
    "csv_df.to_csv('train_label_file.csv')\n",
    "csv_df.to_json('train_label_file.json')"
   ]
  },
  {
   "cell_type": "code",
   "execution_count": 14,
   "metadata": {},
   "outputs": [],
   "source": [
    "from pyspark.sql import Row, SparkSession\n",
    "import pyspark.sql.functions\n",
    "from pyspark.ml.image import ImageSchema\n",
    "from pyspark.sql.functions import udf\n",
    "from pyspark.sql.functions import *\n",
    "from pyspark.sql.types import StringType, IntegerType, FloatType, ArrayType"
   ]
  },
  {
   "cell_type": "code",
   "execution_count": 15,
   "metadata": {},
   "outputs": [],
   "source": [
    "spark = SparkSession.builder\\\n",
    "    .master(\"local[4]\")\\\n",
    "    .appName(\"sql.functions tests\")\\\n",
    "    .getOrCreate()\n",
    "sc = spark.sparkContext"
   ]
  },
  {
   "cell_type": "code",
   "execution_count": 16,
   "metadata": {},
   "outputs": [],
   "source": [
    "json_df = sqlContext.read.json('train_label_file.json')"
   ]
  },
  {
   "cell_type": "code",
   "execution_count": 17,
   "metadata": {},
   "outputs": [
    {
     "name": "stdout",
     "output_type": "stream",
     "text": [
      "+--------------------+--------------------+--------------------+----------------------+----------------------+----------------------+----------------------+------------------------+-----------------------+--------------------+\n",
      "|      image/filename|        image/format|        image/height|image/object/bbox/xmax|image/object/bbox/xmin|image/object/bbox/ymax|image/object/bbox/ymin|image/object/class/label|image/object/class/text|         image/width|\n",
      "+--------------------+--------------------+--------------------+----------------------+----------------------+----------------------+----------------------+------------------------+-----------------------+--------------------+\n",
      "|[cam_image1.jpg, ...|[jpg, jpg, jpg, j...|[270, 540, 540, 5...|  [[0.5416666667, 0...|  [[0.3604166667, 0...|  [[0.5074074074, 0...|  [[0.0888888889, 0...|    [[4, 4, 2], [2, 4...|   [[queen, queen, t...|[480, 960, 960, 3...|\n",
      "+--------------------+--------------------+--------------------+----------------------+----------------------+----------------------+----------------------+------------------------+-----------------------+--------------------+\n",
      "\n"
     ]
    }
   ],
   "source": [
    "json_df.show()"
   ]
  },
  {
   "cell_type": "code",
   "execution_count": 18,
   "metadata": {},
   "outputs": [],
   "source": [
    "pand_df = sqlContext.createDataFrame(csv_df)"
   ]
  },
  {
   "cell_type": "code",
   "execution_count": 19,
   "metadata": {},
   "outputs": [
    {
     "name": "stdout",
     "output_type": "stream",
     "text": [
      "root\n",
      " |-- image/filename: string (nullable = true)\n",
      " |-- image/height: long (nullable = true)\n",
      " |-- image/object/bbox/xmax: array (nullable = true)\n",
      " |    |-- element: double (containsNull = true)\n",
      " |-- image/object/bbox/xmin: array (nullable = true)\n",
      " |    |-- element: double (containsNull = true)\n",
      " |-- image/object/bbox/ymax: array (nullable = true)\n",
      " |    |-- element: double (containsNull = true)\n",
      " |-- image/object/bbox/ymin: array (nullable = true)\n",
      " |    |-- element: double (containsNull = true)\n",
      " |-- image/object/class/label: array (nullable = true)\n",
      " |    |-- element: long (containsNull = true)\n",
      " |-- image/object/class/text: array (nullable = true)\n",
      " |    |-- element: string (containsNull = true)\n",
      " |-- image/width: long (nullable = true)\n",
      " |-- image/format: string (nullable = true)\n",
      "\n"
     ]
    }
   ],
   "source": [
    "pand_df.printSchema()"
   ]
  },
  {
   "cell_type": "code",
   "execution_count": 20,
   "metadata": {},
   "outputs": [],
   "source": [
    "TRAINING_FILE_LOCATION = '/Users/johnmorin/Documents/GitHub/Obj-Det-Tutorial/TensorFlow-Object-Detection-API-Tutorial-Train-Multiple-Objects-Windows-10/images/train/*.jpg'"
   ]
  },
  {
   "cell_type": "code",
   "execution_count": 21,
   "metadata": {},
   "outputs": [],
   "source": [
    "label_files = spark.read.format('csv') \\\n",
    "    .option(\"header\", \"true\") \\\n",
    "    .option(\"inferSchema\", 'true') \\\n",
    "    .load('train_label_file.csv')"
   ]
  },
  {
   "cell_type": "code",
   "execution_count": 22,
   "metadata": {},
   "outputs": [],
   "source": [
    "image_df = spark.read.format('image').load(TRAINING_FILE_LOCATION)"
   ]
  },
  {
   "cell_type": "code",
   "execution_count": 23,
   "metadata": {},
   "outputs": [],
   "source": [
    "image_df = image_df.withColumn('filename', image_df.image.origin.cast(\"string\")[145:300])"
   ]
  },
  {
   "cell_type": "code",
   "execution_count": 24,
   "metadata": {},
   "outputs": [],
   "source": [
    "combined_df = image_df.join(pand_df, \\\n",
    "                            image_df.filename == pand_df['image/filename'], \\\n",
    "                            'inner').drop(image_df.filename)"
   ]
  },
  {
   "cell_type": "code",
   "execution_count": 25,
   "metadata": {},
   "outputs": [],
   "source": [
    "combined_df = combined_df.withColumn('image/source_id', combined_df['image'].origin)\n",
    "combined_df = combined_df.withColumn('image/encoded', combined_df['image'].data)\n",
    "combined_df = combined_df.drop('image')"
   ]
  },
  {
   "cell_type": "code",
   "execution_count": 26,
   "metadata": {},
   "outputs": [],
   "source": [
    "#data_df = data_df.withColumn(\"Plays\", data_df[\"Plays\"].cast(IntegerType()))\n",
    "#combined_df = combined_df.withColumn('image/object/bbox/xmax', combined_df['image/object/bbox/xmax'].cast(ArrayType(elementType=FloatType())))"
   ]
  },
  {
   "cell_type": "code",
   "execution_count": 27,
   "metadata": {},
   "outputs": [
    {
     "name": "stdout",
     "output_type": "stream",
     "text": [
      "root\n",
      " |-- image/filename: string (nullable = true)\n",
      " |-- image/height: long (nullable = true)\n",
      " |-- image/object/bbox/xmax: array (nullable = true)\n",
      " |    |-- element: double (containsNull = true)\n",
      " |-- image/object/bbox/xmin: array (nullable = true)\n",
      " |    |-- element: double (containsNull = true)\n",
      " |-- image/object/bbox/ymax: array (nullable = true)\n",
      " |    |-- element: double (containsNull = true)\n",
      " |-- image/object/bbox/ymin: array (nullable = true)\n",
      " |    |-- element: double (containsNull = true)\n",
      " |-- image/object/class/label: array (nullable = true)\n",
      " |    |-- element: long (containsNull = true)\n",
      " |-- image/object/class/text: array (nullable = true)\n",
      " |    |-- element: string (containsNull = true)\n",
      " |-- image/width: long (nullable = true)\n",
      " |-- image/format: string (nullable = true)\n",
      " |-- image/source_id: string (nullable = true)\n",
      " |-- image/encoded: binary (nullable = true)\n",
      "\n"
     ]
    }
   ],
   "source": [
    "combined_df.printSchema()"
   ]
  },
  {
   "cell_type": "code",
   "execution_count": 28,
   "metadata": {},
   "outputs": [
    {
     "data": {
      "text/plain": [
       "45"
      ]
     },
     "execution_count": 28,
     "metadata": {},
     "output_type": "execute_result"
    }
   ],
   "source": [
    "combined_df.count()"
   ]
  },
  {
   "cell_type": "code",
   "execution_count": 29,
   "metadata": {},
   "outputs": [],
   "source": [
    "import tensorflow as tf\n",
    "from object_detection.utils import dataset_util\n",
    "from collections import namedtuple, OrderedDict\n",
    "from pyspark.sql.types import *"
   ]
  },
  {
   "cell_type": "code",
   "execution_count": 30,
   "metadata": {},
   "outputs": [],
   "source": [
    "combined_df.write.format('tfrecords').option('recordType', 'Example').save('pand_tf_train.record')"
   ]
  },
  {
   "cell_type": "code",
   "execution_count": 31,
   "metadata": {},
   "outputs": [],
   "source": [
    "def create_tf_example(group, path):\n",
    "    #with tf.gfile.GFile(os.path.join(path, '{}'.format(group.filename)), 'rb') as fid:\n",
    "        #encoded_jpg = fid.read()\n",
    "    #encoded_jpg_io = io.BytesIO(encoded_jpg)\n",
    "    #image = Image.open(encoded_jpg_io)\n",
    "    #width, height = image.size\n",
    "    height = group.height[0]\n",
    "    width = group.width[0]\n",
    "    encoded_jpg = group.img_data[0]\n",
    "    \n",
    "    filename = group.filename.encode('utf8')\n",
    "    image_format = b'jpg'\n",
    "    xmins = []\n",
    "    xmaxs = []\n",
    "    ymins = []\n",
    "    ymaxs = []\n",
    "    classes_text = []\n",
    "    classes = []\n",
    "\n",
    "    for index, row in group.object.iterrows():\n",
    "        xmins.append(row['xmin'] / width)\n",
    "        xmaxs.append(row['xmax'] / width)\n",
    "        ymins.append(row['ymin'] / height)\n",
    "        ymaxs.append(row['ymax'] / height)\n",
    "        classes_text.append(row['class'].encode('utf8'))\n",
    "        # Changed to directly get class num from column\n",
    "        classes.append(row['num_class'])"
   ]
  },
  {
   "cell_type": "code",
   "execution_count": 32,
   "metadata": {},
   "outputs": [],
   "source": [
    "tf_rec = spark.read.format(\"tfrecords\").option(\"recordType\", \"Example\").load('pand_tf_train.record/part-r-00000')"
   ]
  },
  {
   "cell_type": "code",
   "execution_count": 33,
   "metadata": {},
   "outputs": [
    {
     "name": "stdout",
     "output_type": "stream",
     "text": [
      "root\n",
      " |-- image/object/class/text: array (nullable = true)\n",
      " |    |-- element: string (containsNull = true)\n",
      " |-- image/width: long (nullable = true)\n",
      " |-- image/height: long (nullable = true)\n",
      " |-- image/object/bbox/ymax: array (nullable = true)\n",
      " |    |-- element: float (containsNull = true)\n",
      " |-- image/object/bbox/xmin: array (nullable = true)\n",
      " |    |-- element: float (containsNull = true)\n",
      " |-- image/filename: string (nullable = true)\n",
      " |-- image/format: string (nullable = true)\n",
      " |-- image/source_id: string (nullable = true)\n",
      " |-- image/object/class/label: array (nullable = true)\n",
      " |    |-- element: long (containsNull = true)\n",
      " |-- image/encoded: string (nullable = true)\n",
      " |-- image/object/bbox/xmax: array (nullable = true)\n",
      " |    |-- element: float (containsNull = true)\n",
      " |-- image/object/bbox/ymin: array (nullable = true)\n",
      " |    |-- element: float (containsNull = true)\n",
      "\n"
     ]
    }
   ],
   "source": [
    "tf_rec.printSchema()"
   ]
  },
  {
   "cell_type": "code",
   "execution_count": null,
   "metadata": {},
   "outputs": [],
   "source": []
  }
 ],
 "metadata": {
  "kernelspec": {
   "display_name": "Python 3",
   "language": "python",
   "name": "python3"
  },
  "language_info": {
   "codemirror_mode": {
    "name": "ipython",
    "version": 3
   },
   "file_extension": ".py",
   "mimetype": "text/x-python",
   "name": "python",
   "nbconvert_exporter": "python",
   "pygments_lexer": "ipython3",
   "version": "3.6.6"
  }
 },
 "nbformat": 4,
 "nbformat_minor": 2
}
