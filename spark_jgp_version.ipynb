{
 "cells": [
  {
   "cell_type": "code",
   "execution_count": 1,
   "metadata": {},
   "outputs": [],
   "source": [
    "import pandas as pd\n",
    "import tensorflow as tf\n",
    "from object_detection.utils import dataset_util\n",
    "from collections import namedtuple, OrderedDict\n",
    "from pyspark.sql.types import *\n",
    "from pyspark.sql import Row, SparkSession\n",
    "from pyspark.ml.image import ImageSchema\n",
    "from pyspark.sql.functions import udf\n",
    "from pyspark.sql.functions import *\n",
    "from pyspark.sql.types import StringType, IntegerType, FloatType, ArrayType\n",
    "import cv2\n",
    "import numpy as np"
   ]
  },
  {
   "cell_type": "code",
   "execution_count": 2,
   "metadata": {},
   "outputs": [],
   "source": [
    "spark = SparkSession.builder\\\n",
    "    .master(\"local[4]\")\\\n",
    "    .appName(\"sql.functions tests\")\\\n",
    "    .getOrCreate()\n",
    "sc = spark.sparkContext"
   ]
  },
  {
   "cell_type": "code",
   "execution_count": 3,
   "metadata": {},
   "outputs": [],
   "source": [
    "#tiff_train_loc = '/Users/johnmorin/KaylaTek/Data/images/train/*.tif'\n",
    "#tiff_test_loc = '/Users/johnmorin/KaylaTek/Data/images/test/*.tif'\n",
    "#tiff_train_labels = '/Users/johnmorin/KaylaTek/Data/images/training_data.csv'\n",
    "#tiff_test_labels = '/Users/johnmorin/KaylaTek/Data/images/test_data.csv'"
   ]
  },
  {
   "cell_type": "code",
   "execution_count": 4,
   "metadata": {},
   "outputs": [],
   "source": [
    "train_file_loc = '/Users/johnmorin/Documents/GitHub/Obj-Det-Tutorial/TensorFlow-Object-Detection-API-Tutorial-Train-Multiple-Objects-Windows-10/images/train_labels.csv'\n",
    "test_file_loc = '/Users/johnmorin/Documents/GitHub/Obj-Det-Tutorial/TensorFlow-Object-Detection-API-Tutorial-Train-Multiple-Objects-Windows-10/images/test_labels.csv'"
   ]
  },
  {
   "cell_type": "code",
   "execution_count": 5,
   "metadata": {},
   "outputs": [],
   "source": [
    "TRAINING_FILE_LOCATION = '/Users/johnmorin/Documents/GitHub/Obj-Det-Tutorial/TensorFlow-Object-Detection-API-Tutorial-Train-Multiple-Objects-Windows-10/images/train/*.jpg'\n",
    "TEST_FILE_LOCATION = '/Users/johnmorin/Documents/GitHub/Obj-Det-Tutorial/TensorFlow-Object-Detection-API-Tutorial-Train-Multiple-Objects-Windows-10/images/test/*.jpg'"
   ]
  },
  {
   "cell_type": "code",
   "execution_count": 6,
   "metadata": {},
   "outputs": [],
   "source": [
    "#tif_image_df = spark.read.format('image').load('/Users/johnmorin/KaylaTek/Data/images/train/frame_000000.tif')"
   ]
  },
  {
   "cell_type": "code",
   "execution_count": 7,
   "metadata": {},
   "outputs": [],
   "source": [
    "#to_shape = tf.cast(tf.stack([1024, 1280, 3]), tf.int32)\n",
    "#image = tf.reshape(tf.decode_raw(encoded_inputs, tf.uint8), to_shape)"
   ]
  },
  {
   "cell_type": "code",
   "execution_count": 8,
   "metadata": {},
   "outputs": [],
   "source": [
    "def class_text_to_int(row_label):\n",
    "    if row_label == 'nine':\n",
    "        return 1\n",
    "    elif row_label == 'ten':\n",
    "        return 2\n",
    "    elif row_label == 'jack':\n",
    "        return 3\n",
    "    elif row_label == 'queen':\n",
    "        return 4\n",
    "    elif row_label == 'king':\n",
    "        return 5\n",
    "    elif row_label == 'ace':\n",
    "        return 6\n",
    "    else:\n",
    "        return None"
   ]
  },
  {
   "cell_type": "code",
   "execution_count": 9,
   "metadata": {},
   "outputs": [],
   "source": [
    "def load_label_files(label_filename):\n",
    "    df = pd.read_csv(label_filename)\n",
    "    grouped = df['filename'].unique()\n",
    "    \n",
    "    csv_df = pd.DataFrame()\n",
    "    for files in grouped:\n",
    "        mydf = df[df['filename'] == files]\n",
    "        #print(mydf.head())\n",
    "        height = int(mydf['height'].unique()[0])\n",
    "        width = int(mydf['width'].unique()[0])\n",
    "        filename = mydf.filename.unique()[0]\n",
    "        label = mydf['class'].tolist()\n",
    "        #print(list(label))\n",
    "        num_label = mydf['class'].map(class_text_to_int).tolist()\n",
    "        xmin = mydf['xmin'].map(lambda x: x/width).tolist()\n",
    "        ymin = mydf['ymin'].map(lambda x: x/height).tolist()\n",
    "        xmax = mydf['xmax'].map(lambda x: x/width).tolist()\n",
    "        ymax = mydf['ymax'].map(lambda x: x/height).tolist()\n",
    "        temp = pd.DataFrame({'image/filename':filename, 'image/width':width, 'image/height':height, \n",
    "                        'image/object/class/label':[num_label], 'image/object/bbox/xmin':[xmin], \n",
    "                        'image/object/bbox/ymin':[ymin],'image/object/bbox/xmax':[xmax],\n",
    "                        'image/object/bbox/ymax':[ymax], 'image/object/class/text':[label],\n",
    "                        # Change Number of Channels to correct number\n",
    "                        'image/channels': int(3),\n",
    "                        #'image/encoded': dataset_util.bytes_feature(encoded_inputs),\n",
    "                        })\n",
    "        csv_df = pd.concat([csv_df, temp])\n",
    "    csv_df.reset_index(inplace= True)\n",
    "    csv_df.drop('index', axis=1, inplace = True)\n",
    "    csv_df['image/format'] = 'jpg'\n",
    "    # making file names the same\n",
    "    csv_df['image/filename'] = csv_df['image/filename'].str.replace('.JPG', '.jpg')\n",
    "    return csv_df"
   ]
  },
  {
   "cell_type": "code",
   "execution_count": 10,
   "metadata": {},
   "outputs": [],
   "source": [
    "def create_tensor(file_loc):\n",
    "    print(type(file))\n",
    "    print(file)\n",
    "    file = file_loc\n",
    "    img = cv2.imread(file, 1)\n",
    "    print(img.shape)\n",
    "    img2 = img[:, :, ::-1]\n",
    "    inputs_stacked = np.concatenate([img2], axis=-1)\n",
    "    encoded_inputs = inputs_stacked.tostring()\n",
    "    # How to open encoded image\n",
    "    #    decoded = np.frombuffer(encoded_inputs, np.uint8).reshape(height, width, depth)\n",
    "    #    to_shape = tf.cast(tf.stack([height, width, depth]), tf.int32)\n",
    "    #    image = tf.reshape(tf.decode_raw(encoded_inputs, tf.uint8), to_shape)\n",
    "    return encoded_inputs\n",
    "\n",
    "filter_udf = udf(create_tensor,ByteType())"
   ]
  },
  {
   "cell_type": "code",
   "execution_count": 11,
   "metadata": {},
   "outputs": [],
   "source": [
    "data_schema = [StructField('image/channels', IntegerType(), True),\n",
    "               StructField('image/filename', StringType(), True),\n",
    "               StructField('image/height', IntegerType(), True), \n",
    "               StructField('image/object/bbox/xmax', ArrayType(FloatType(), True), True),\n",
    "               StructField('image/object/bbox/ymax', ArrayType(FloatType(), True), True),\n",
    "               StructField('image/object/bbox/xmin', ArrayType(FloatType(), True), True),\n",
    "               StructField('image/object/bbox/ymin', ArrayType(FloatType(), True), True),\n",
    "               StructField('image/object/class/label', ArrayType(IntegerType(), True), True),\n",
    "               StructField('image/object/class/text', ArrayType(StringType(), True), True),\n",
    "               StructField('image/width', IntegerType(), True), \n",
    "               StructField('image/format', StringType(), True) \n",
    "            ]\n",
    "final_struc = StructType(fields=data_schema)"
   ]
  },
  {
   "cell_type": "code",
   "execution_count": 12,
   "metadata": {},
   "outputs": [],
   "source": [
    "#decoded = np.frombuffer(image_df.first().image.data, np.uint8).reshape(image_df.first().image.height, image_df.first().image.width, image_df.first().image.nChannels)\n",
    "#to_shape = tf.cast(tf.stack([image_df.first().image.height, image_df.first().image.width, image_df.first().image.nChannels]), tf.int32)\n",
    "#image = tf.reshape(tf.decode_raw(encoded_inputs, tf.uint8), to_shape)"
   ]
  },
  {
   "cell_type": "code",
   "execution_count": 13,
   "metadata": {},
   "outputs": [],
   "source": [
    "#decoded.shape"
   ]
  },
  {
   "cell_type": "code",
   "execution_count": 14,
   "metadata": {},
   "outputs": [],
   "source": [
    "# Use OpenCV to read in binary for image file\n",
    "#cv2_udf = udf(lambda x: cv2.imread(x, 1).tostring(), BinaryType())\n",
    "\n",
    "#image_df = image_df.withColumn('file_locs', image_df.image.origin.substr(6, 300))\n",
    "\n",
    "#image_df = image_df.withColumn('cv2', cv2_udf(image_df.file_locs))"
   ]
  },
  {
   "cell_type": "code",
   "execution_count": 30,
   "metadata": {},
   "outputs": [],
   "source": [
    "def create_tfrecord(pandas_df, image_location, tf_record_loc, which):\n",
    "    pand_df = sqlContext.createDataFrame(pandas_df)\n",
    "    image_df = spark.read.format('image').load(image_location)\n",
    "    if which is 'train':\n",
    "        image_df = image_df.withColumn('filename', image_df.image.origin.substr(145, 300))\n",
    "        #print('train')\n",
    "        #print(image_df.first().filename)\n",
    "    if which is 'test':\n",
    "        image_df = image_df.withColumn('filename', image_df.image.origin.substr(144, 300))\n",
    "        #print('test')\n",
    "        #print(image_df.first().filename)\n",
    "    combined_df = image_df.join(pand_df, \\\n",
    "                            image_df.filename == pand_df['image/filename'], \\\n",
    "                            'inner').drop(image_df.filename)\n",
    "    #print(combined_df.first().image.height)\n",
    "    #print(combined_df.first()['image/height'])\n",
    "    # Original Code to add encoded data to \n",
    "    #combined_df = combined_df.withColumn('image/encoded', combined_df['image'].data)\n",
    "    # Code to encode tiffs into binary format when pyspark won't read them\n",
    "    combined_df = combined_df.withColumn('image/source_id', combined_df.image.origin.substr(6, 300))\n",
    "    cv2_udf = udf(lambda x: cv2.imread(x, 1).tostring(), BinaryType())\n",
    "    combined_df = combined_df.withColumn('image/encoded', cv2_udf(combined_df['image/source_id']))\n",
    "    #print(combined_df.first())\n",
    "    # Cleaning up dataframe before writing it to tfrecord\n",
    "    combined_df = combined_df.drop('image')\n",
    "    \n",
    "    # Writing Pyspark Dataframe to tfrecord\n",
    "    combined_df.write.format('tfrecords').option('recordType', 'Example').save(tf_record_loc)\n",
    "    #combined_df.printSchema()"
   ]
  },
  {
   "cell_type": "code",
   "execution_count": 28,
   "metadata": {},
   "outputs": [],
   "source": [
    "train_df = load_label_files(train_file_loc)\n",
    "test_df = load_label_files(test_file_loc)"
   ]
  },
  {
   "cell_type": "code",
   "execution_count": 32,
   "metadata": {},
   "outputs": [
    {
     "name": "stdout",
     "output_type": "stream",
     "text": [
      "train\n",
      "cam_image26.jpg\n",
      "504\n",
      "504\n",
      "test\n",
      "cam_image7.jpg\n",
      "540\n",
      "540\n"
     ]
    }
   ],
   "source": [
    "create_tfrecord(train_df, TRAINING_FILE_LOCATION, 'jpg_card_train', 'train')\n",
    "create_tfrecord(test_df, TEST_FILE_LOCATION, 'jpg_card_test', 'test')"
   ]
  },
  {
   "cell_type": "code",
   "execution_count": null,
   "metadata": {},
   "outputs": [],
   "source": [
    "import os"
   ]
  },
  {
   "cell_type": "code",
   "execution_count": null,
   "metadata": {},
   "outputs": [],
   "source": [
    "dirs = os.listdir('/Users/johnmorin/Documents/GitHub/Obj-Det-Tutorial/TensorFlow-Object-Detection-API-Tutorial-Train-Multiple-Objects-Windows-10/images/test/')\n",
    "for file in dirs:\n",
    "    if 'JPG' in file:\n",
    "        split = file.split('.')\n",
    "        #print(file)\n",
    "        os.rename(os.path.join('/Users/johnmorin/Documents/GitHub/Obj-Det-Tutorial/TensorFlow-Object-Detection-API-Tutorial-Train-Multiple-Objects-Windows-10/images/test/', file), str(os.path.join('/Users/johnmorin/Documents/GitHub/Obj-Det-Tutorial/TensorFlow-Object-Detection-API-Tutorial-Train-Multiple-Objects-Windows-10/images/test/', str(split[0]+'.jpg'))))"
   ]
  },
  {
   "cell_type": "code",
   "execution_count": 37,
   "metadata": {},
   "outputs": [
    {
     "name": "stdout",
     "output_type": "stream",
     "text": [
      "67\n"
     ]
    }
   ],
   "source": [
    "dirs = os.listdir('/Users/johnmorin/Documents/GitHub/Obj-Det-Tutorial/TensorFlow-Object-Detection-API-Tutorial-Train-Multiple-Objects-Windows-10/images/test/')\n",
    "count = 0\n",
    "for file in dirs:\n",
    "    if '.jpg' in file:\n",
    "        count += 1\n",
    "print(count)"
   ]
  },
  {
   "cell_type": "code",
   "execution_count": null,
   "metadata": {},
   "outputs": [],
   "source": [
    "#label_files = spark.read.format('csv') \\\n",
    "#    .option(\"header\", \"true\") \\\n",
    "#    .option(\"inferSchema\", 'true') \\\n",
    "#    .load('train_label_file.csv')"
   ]
  },
  {
   "cell_type": "code",
   "execution_count": 38,
   "metadata": {},
   "outputs": [],
   "source": [
    "tf_rec = spark.read.format(\"tfrecords\").option(\"recordType\", \"Example\").load('jpg_card_train/part-r-00000')"
   ]
  },
  {
   "cell_type": "code",
   "execution_count": 39,
   "metadata": {},
   "outputs": [
    {
     "name": "stdout",
     "output_type": "stream",
     "text": [
      "root\n",
      " |-- image/object/class/text: array (nullable = true)\n",
      " |    |-- element: string (containsNull = true)\n",
      " |-- image/channels: long (nullable = true)\n",
      " |-- image/height: long (nullable = true)\n",
      " |-- image/width: long (nullable = true)\n",
      " |-- image/object/bbox/xmin: array (nullable = true)\n",
      " |    |-- element: float (containsNull = true)\n",
      " |-- image/object/bbox/ymax: array (nullable = true)\n",
      " |    |-- element: float (containsNull = true)\n",
      " |-- image/filename: string (nullable = true)\n",
      " |-- image/format: string (nullable = true)\n",
      " |-- image/source_id: string (nullable = true)\n",
      " |-- image/object/class/label: array (nullable = true)\n",
      " |    |-- element: long (containsNull = true)\n",
      " |-- image/encoded: string (nullable = true)\n",
      " |-- image/object/bbox/ymin: array (nullable = true)\n",
      " |    |-- element: float (containsNull = true)\n",
      " |-- image/object/bbox/xmax: array (nullable = true)\n",
      " |    |-- element: float (containsNull = true)\n",
      "\n"
     ]
    }
   ],
   "source": [
    "tf_rec.printSchema()"
   ]
  }
 ],
 "metadata": {
  "kernelspec": {
   "display_name": "Python 3",
   "language": "python",
   "name": "python3"
  },
  "language_info": {
   "codemirror_mode": {
    "name": "ipython",
    "version": 3
   },
   "file_extension": ".py",
   "mimetype": "text/x-python",
   "name": "python",
   "nbconvert_exporter": "python",
   "pygments_lexer": "ipython3",
   "version": "3.6.6"
  }
 },
 "nbformat": 4,
 "nbformat_minor": 2
}
